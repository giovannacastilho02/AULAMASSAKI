{
  "nbformat": 4,
  "nbformat_minor": 0,
  "metadata": {
    "colab": {
      "provenance": [],
      "authorship_tag": "ABX9TyPCjepboIrosFLXML+LlsED",
      "include_colab_link": true
    },
    "kernelspec": {
      "name": "python3",
      "display_name": "Python 3"
    },
    "language_info": {
      "name": "python"
    }
  },
  "cells": [
    {
      "cell_type": "markdown",
      "metadata": {
        "id": "view-in-github",
        "colab_type": "text"
      },
      "source": [
        "<a href=\"https://colab.research.google.com/github/giovannacastilho02/AULAMASSAKI/blob/main/Untitled2.ipynb\" target=\"_parent\"><img src=\"https://colab.research.google.com/assets/colab-badge.svg\" alt=\"Open In Colab\"/></a>"
      ]
    },
    {
      "cell_type": "code",
      "execution_count": null,
      "metadata": {
        "id": "-3Qvk7kKb_KV"
      },
      "outputs": [],
      "source": []
    },
    {
      "cell_type": "markdown",
      "source": [
        "#*Criar a narrativa, o pseudocódigo e o fluxograma de um programa que solicite ao usuário digitar uma temperatura em farenheit e convertêla e exibir o resultado em graus Celsius. Onde C = (5/9)(F-32)*\n"
      ],
      "metadata": {
        "id": "C6aFgJwfcaFl"
      }
    },
    {
      "cell_type": "code",
      "source": [
        "fahrenheit = float(input(\"Conversão de temperatura de Fahrenheit: \"))\n",
        "#Calcular Fahrenheit para Celsius usando a formula C = (5/9) * (F/32)\n",
        "celsius = (5/9)*(fahrenheit - 32)\n",
        "#Exibir valor de Celsius\n",
        "print(f\"a temperatura em Celsius é {celsius: .2f}°C\")"
      ],
      "metadata": {
        "colab": {
          "base_uri": "https://localhost:8080/"
        },
        "id": "Ein9NvENclbM",
        "outputId": "d0e1bfb5-407c-444c-ce53-fb7625f109fb"
      },
      "execution_count": 12,
      "outputs": [
        {
          "output_type": "stream",
          "name": "stdout",
          "text": [
            "Conversão de temperatura de Fahrenheit: 85\n",
            "a temperatura em Celsius é  29.44°C\n"
          ]
        }
      ]
    },
    {
      "cell_type": "markdown",
      "source": [
        "#*Criar a narrativa, pseudocódigo, fluxograma e código de um programa que solicite ao usuário digitar medida em polegadas e converter o valor dado para milímetros. (1”=25,4mm)*"
      ],
      "metadata": {
        "id": "aTb7C0u2fui0"
      }
    },
    {
      "cell_type": "code",
      "source": [
        "polegadas = float(input(\"Conversão de polegas: \"))\n",
        "#calcular polegadas para milimetros usando a formula mm = 25.4 * P\n",
        "milimetros = 25.4 * polegadas\n",
        "#Exibir valor para milimetros\n",
        "print(f\"a medida em milimetros é {milimetros: .2f}mm\")"
      ],
      "metadata": {
        "colab": {
          "base_uri": "https://localhost:8080/"
        },
        "id": "JWAidd0lf3FB",
        "outputId": "4c517714-4ebb-439e-decb-0e253318cc4e"
      },
      "execution_count": 14,
      "outputs": [
        {
          "output_type": "stream",
          "name": "stdout",
          "text": [
            "Conversão de polegas: 1\n",
            "a medida em milimetros é  25.40mm\n"
          ]
        }
      ]
    },
    {
      "cell_type": "markdown",
      "source": [
        "#*Narrativa, pseudocódigo, fluxograma e código de um programa que solicite ao usuário digitar sua idade e, em seguida, faça a verificação do valor; assim, se idade maior ou igual a 16 anos e menor que 70 anos, o programa deve retornar a mensagem “Pode votar”. No caso contrário, ou seja, se menor que 16 anos ou maior que 70 anos “Não pode votar!”.*"
      ],
      "metadata": {
        "id": "AlN4PyyFh7CQ"
      }
    },
    {
      "cell_type": "markdown",
      "source": [],
      "metadata": {
        "id": "Y7Jitd1EiTvA"
      }
    },
    {
      "cell_type": "code",
      "source": [
        "# Solicita ao usuario sua idade\n",
        "idade = int(input(\"Digite sua idade: \"))\n",
        "# verificar se a idade é menor ou igual a 16 anos ou maior que 70 anos\n",
        "if 16 <= idade < 70:\n",
        "  print(\"Você está na faixa etária de 16 a 70 anos\")\n",
        "else :\n",
        "  print(\"Você está fora da faixa etária de 16 a 70 anos\")"
      ],
      "metadata": {
        "colab": {
          "base_uri": "https://localhost:8080/"
        },
        "id": "exP2_HmNiEgJ",
        "outputId": "ad7c48ab-7287-421b-8f39-440f911c1ee8"
      },
      "execution_count": 34,
      "outputs": [
        {
          "output_type": "stream",
          "name": "stdout",
          "text": [
            "Digite sua idade: 21\n",
            "Você está na faixa etária de 16 a 70 anos\n"
          ]
        }
      ]
    }
  ]
}