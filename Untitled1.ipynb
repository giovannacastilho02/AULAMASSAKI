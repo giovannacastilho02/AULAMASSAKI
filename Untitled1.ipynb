{
  "nbformat": 4,
  "nbformat_minor": 0,
  "metadata": {
    "colab": {
      "provenance": [],
      "authorship_tag": "ABX9TyPuIL6159wlKxMtGDcf1XYA",
      "include_colab_link": true
    },
    "kernelspec": {
      "name": "python3",
      "display_name": "Python 3"
    },
    "language_info": {
      "name": "python"
    }
  },
  "cells": [
    {
      "cell_type": "markdown",
      "metadata": {
        "id": "view-in-github",
        "colab_type": "text"
      },
      "source": [
        "<a href=\"https://colab.research.google.com/github/giovannacastilho02/AULAMASSAKI/blob/main/Untitled1.ipynb\" target=\"_parent\"><img src=\"https://colab.research.google.com/assets/colab-badge.svg\" alt=\"Open In Colab\"/></a>"
      ]
    },
    {
      "cell_type": "markdown",
      "source": [
        "**EXERCÍCIOS EXTRAS**\n",
        "\n",
        " 1)Elaborar um programa em python que solicite ao\n",
        "usuário um valor inteiro e em seguida informe ao usuário se o valor é múltiplo de 3 ou não. A seguir o pseudocódigo referente ao algoritmo do programa:"
      ],
      "metadata": {
        "id": "iQ9DSBlHVxF1"
      }
    },
    {
      "cell_type": "code",
      "source": [
        "numero = int(input(\"Digite um número inteiro:\"))\n",
        "if numero % 2 == 0:\n",
        "  print(f\"o numero {numero} é par.\")\n",
        "else:\n",
        "  print(f\"o numero {numero} é impar.)\")"
      ],
      "metadata": {
        "colab": {
          "base_uri": "https://localhost:8080/"
        },
        "id": "rrI4C0a4Wg1C",
        "outputId": "c1687e32-038b-4a58-a9cc-9378425b25b9"
      },
      "execution_count": 8,
      "outputs": [
        {
          "output_type": "stream",
          "name": "stdout",
          "text": [
            "Digite um número inteiro:50\n",
            "o numero 50 é par.\n"
          ]
        }
      ]
    },
    {
      "cell_type": "code",
      "source": [
        "x = int(input(\"Digite um numero inteiro:\"))\n",
        "r =  x%3\n",
        "if r==0:\n",
        "  print(\"multiplo\")\n",
        "else:\n",
        "    print(\"não multiplo\")\n",
        "\n",
        "\n"
      ],
      "metadata": {
        "colab": {
          "base_uri": "https://localhost:8080/"
        },
        "id": "lkXOWE3qYisg",
        "outputId": "f652db4e-9615-4564-d17e-b41d5e260e20"
      },
      "execution_count": 15,
      "outputs": [
        {
          "output_type": "stream",
          "name": "stdout",
          "text": [
            "Digite um numero inteiro:45\n",
            "multiplo\n"
          ]
        }
      ]
    },
    {
      "cell_type": "code",
      "source": [
        "a = float(input(\"Digite a nota 1:\"))\n",
        "b = float(input(\"Digite a nota 2:\"))\n",
        "m=(2*a+3*b)/5\n",
        "if m >= 5:\n",
        " print(\"aprovado\")\n",
        "else:\n",
        " print(\"não aprovado\")\n",
        "\n"
      ],
      "metadata": {
        "colab": {
          "base_uri": "https://localhost:8080/"
        },
        "id": "lvCMGfE6an1v",
        "outputId": "9de68aa2-ad77-4797-d736-dbdaf56da57a"
      },
      "execution_count": 34,
      "outputs": [
        {
          "output_type": "stream",
          "name": "stdout",
          "text": [
            "Digite a nota 1:2\n",
            "Digite a nota 2:3\n",
            "não aprovado\n"
          ]
        }
      ]
    }
  ]
}